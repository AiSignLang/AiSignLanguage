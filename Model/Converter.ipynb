{
 "cells": [
  {
   "metadata": {},
   "cell_type": "markdown",
   "source": "# Convert a Keras model to TensorFlow.js format",
   "id": "fe42598c1f8f7c43"
  },
  {
   "metadata": {
    "ExecuteTime": {
     "end_time": "2024-05-09T18:32:06.756602Z",
     "start_time": "2024-05-09T18:32:06.643547Z"
    }
   },
   "cell_type": "code",
   "source": [
    "from tensorflow.keras.models import Sequential\n",
    "from tensorflow.keras.layers import LSTM, Dense, Input\n",
    "import tensorflowjs as tfjs\n",
    "\n",
    "# Define your model architecture here\n",
    "model = Sequential()\n",
    "model.add(Input(shape=(30,1662)))\n",
    "model.add(LSTM(64, return_sequences=True, activation='relu', name='lstm1'))\n",
    "model.add(Dense(64, activation='relu', name='dense1'))\n",
    "model.add(LSTM(128, return_sequences=True, activation='relu', name='lstm2'))\n",
    "model.add(Dense(64, activation='relu', name='dense2'))\n",
    "model.add(LSTM(64, return_sequences=False, activation='relu', name='lstm3'))\n",
    "model.add(Dense(32, activation='relu', name='dense3'))\n",
    "model.add(Dense(3, activation='softmax', name='output'))  # replace 3 with the number of your classes\n",
    "\n",
    "# Load the weights into the model\n",
    "model.load_weights('melav01_renamed.h5')\n",
    "\n",
    "# Save the model in TensorFlow.js format\n",
    "tfjs.converters.save_keras_model(model, './output_directory')"
   ],
   "id": "541eb7e58f29c1fb",
   "outputs": [
    {
     "name": "stdout",
     "output_type": "stream",
     "text": [
      "failed to lookup keras version from the file,\n",
      "    this is likely a weight only file\n"
     ]
    },
    {
     "ename": "Exception",
     "evalue": "Error dumping weights, duplicate weight name kernel",
     "output_type": "error",
     "traceback": [
      "\u001B[0;31m---------------------------------------------------------------------------\u001B[0m",
      "\u001B[0;31mException\u001B[0m                                 Traceback (most recent call last)",
      "Cell \u001B[0;32mIn[7], line 20\u001B[0m\n\u001B[1;32m     17\u001B[0m model\u001B[38;5;241m.\u001B[39mload_weights(\u001B[38;5;124m'\u001B[39m\u001B[38;5;124mmelav01_renamed.h5\u001B[39m\u001B[38;5;124m'\u001B[39m)\n\u001B[1;32m     19\u001B[0m \u001B[38;5;66;03m# Save the model in TensorFlow.js format\u001B[39;00m\n\u001B[0;32m---> 20\u001B[0m \u001B[43mtfjs\u001B[49m\u001B[38;5;241;43m.\u001B[39;49m\u001B[43mconverters\u001B[49m\u001B[38;5;241;43m.\u001B[39;49m\u001B[43msave_keras_model\u001B[49m\u001B[43m(\u001B[49m\u001B[43mmodel\u001B[49m\u001B[43m,\u001B[49m\u001B[43m \u001B[49m\u001B[38;5;124;43m'\u001B[39;49m\u001B[38;5;124;43m./output_directory\u001B[39;49m\u001B[38;5;124;43m'\u001B[39;49m\u001B[43m)\u001B[49m\n",
      "File \u001B[0;32m~/Downloads/.venv/lib/python3.10/site-packages/tensorflowjs/converters/keras_h5_conversion.py:467\u001B[0m, in \u001B[0;36msave_keras_model\u001B[0;34m(model, artifacts_dir, quantization_dtype_map, weight_shard_size_bytes, metadata)\u001B[0m\n\u001B[1;32m    465\u001B[0m \u001B[38;5;28;01mif\u001B[39;00m \u001B[38;5;129;01mnot\u001B[39;00m os\u001B[38;5;241m.\u001B[39mpath\u001B[38;5;241m.\u001B[39misdir(artifacts_dir):\n\u001B[1;32m    466\u001B[0m   os\u001B[38;5;241m.\u001B[39mmakedirs(artifacts_dir)\n\u001B[0;32m--> 467\u001B[0m \u001B[43mwrite_artifacts\u001B[49m\u001B[43m(\u001B[49m\n\u001B[1;32m    468\u001B[0m \u001B[43m    \u001B[49m\u001B[43mtopology_json\u001B[49m\u001B[43m,\u001B[49m\u001B[43m \u001B[49m\u001B[43mweight_groups\u001B[49m\u001B[43m,\u001B[49m\u001B[43m \u001B[49m\u001B[43martifacts_dir\u001B[49m\u001B[43m,\u001B[49m\n\u001B[1;32m    469\u001B[0m \u001B[43m    \u001B[49m\u001B[43mquantization_dtype_map\u001B[49m\u001B[38;5;241;43m=\u001B[39;49m\u001B[43mquantization_dtype_map\u001B[49m\u001B[43m,\u001B[49m\n\u001B[1;32m    470\u001B[0m \u001B[43m    \u001B[49m\u001B[43mweight_shard_size_bytes\u001B[49m\u001B[38;5;241;43m=\u001B[39;49m\u001B[43mweight_shard_size_bytes\u001B[49m\u001B[43m,\u001B[49m\n\u001B[1;32m    471\u001B[0m \u001B[43m    \u001B[49m\u001B[43mmetadata\u001B[49m\u001B[38;5;241;43m=\u001B[39;49m\u001B[43mmetadata\u001B[49m\u001B[43m)\u001B[49m\n\u001B[1;32m    472\u001B[0m os\u001B[38;5;241m.\u001B[39mremove(temp_h5_path)\n",
      "File \u001B[0;32m~/Downloads/.venv/lib/python3.10/site-packages/tensorflowjs/converters/keras_h5_conversion.py:418\u001B[0m, in \u001B[0;36mwrite_artifacts\u001B[0;34m(topology, weights, output_dir, quantization_dtype_map, weight_shard_size_bytes, metadata)\u001B[0m\n\u001B[1;32m    415\u001B[0m   model_json[common\u001B[38;5;241m.\u001B[39mUSER_DEFINED_METADATA_KEY] \u001B[38;5;241m=\u001B[39m metadata\n\u001B[1;32m    417\u001B[0m model_json[common\u001B[38;5;241m.\u001B[39mARTIFACT_MODEL_TOPOLOGY_KEY] \u001B[38;5;241m=\u001B[39m topology \u001B[38;5;129;01mor\u001B[39;00m \u001B[38;5;28;01mNone\u001B[39;00m\n\u001B[0;32m--> 418\u001B[0m weights_manifest \u001B[38;5;241m=\u001B[39m \u001B[43mwrite_weights\u001B[49m\u001B[38;5;241;43m.\u001B[39;49m\u001B[43mwrite_weights\u001B[49m\u001B[43m(\u001B[49m\n\u001B[1;32m    419\u001B[0m \u001B[43m    \u001B[49m\u001B[43mweights\u001B[49m\u001B[43m,\u001B[49m\u001B[43m \u001B[49m\u001B[43moutput_dir\u001B[49m\u001B[43m,\u001B[49m\u001B[43m \u001B[49m\u001B[43mwrite_manifest\u001B[49m\u001B[38;5;241;43m=\u001B[39;49m\u001B[38;5;28;43;01mFalse\u001B[39;49;00m\u001B[43m,\u001B[49m\n\u001B[1;32m    420\u001B[0m \u001B[43m    \u001B[49m\u001B[43mquantization_dtype_map\u001B[49m\u001B[38;5;241;43m=\u001B[39;49m\u001B[43mquantization_dtype_map\u001B[49m\u001B[43m,\u001B[49m\n\u001B[1;32m    421\u001B[0m \u001B[43m    \u001B[49m\u001B[43mshard_size_bytes\u001B[49m\u001B[38;5;241;43m=\u001B[39;49m\u001B[43mweight_shard_size_bytes\u001B[49m\u001B[43m)\u001B[49m\n\u001B[1;32m    422\u001B[0m \u001B[38;5;28;01massert\u001B[39;00m \u001B[38;5;28misinstance\u001B[39m(weights_manifest, \u001B[38;5;28mlist\u001B[39m)\n\u001B[1;32m    423\u001B[0m model_json[common\u001B[38;5;241m.\u001B[39mARTIFACT_WEIGHTS_MANIFEST_KEY] \u001B[38;5;241m=\u001B[39m weights_manifest\n",
      "File \u001B[0;32m~/Downloads/.venv/lib/python3.10/site-packages/tensorflowjs/write_weights.py:118\u001B[0m, in \u001B[0;36mwrite_weights\u001B[0;34m(weight_groups, write_dir, shard_size_bytes, write_manifest, quantization_dtype_map)\u001B[0m\n\u001B[1;32m    116\u001B[0m _assert_weight_groups_valid(weight_groups)\n\u001B[1;32m    117\u001B[0m _assert_shard_size_bytes_valid(shard_size_bytes)\n\u001B[0;32m--> 118\u001B[0m \u001B[43m_assert_no_duplicate_weight_names\u001B[49m\u001B[43m(\u001B[49m\u001B[43mweight_groups\u001B[49m\u001B[43m)\u001B[49m\n\u001B[1;32m    120\u001B[0m manifest \u001B[38;5;241m=\u001B[39m []\n\u001B[1;32m    122\u001B[0m \u001B[38;5;28;01mfor\u001B[39;00m group_index, group \u001B[38;5;129;01min\u001B[39;00m \u001B[38;5;28menumerate\u001B[39m(weight_groups):\n",
      "File \u001B[0;32m~/Downloads/.venv/lib/python3.10/site-packages/tensorflowjs/write_weights.py:346\u001B[0m, in \u001B[0;36m_assert_no_duplicate_weight_names\u001B[0;34m(weight_groups)\u001B[0m\n\u001B[1;32m    344\u001B[0m name \u001B[38;5;241m=\u001B[39m entry[\u001B[38;5;124m'\u001B[39m\u001B[38;5;124mname\u001B[39m\u001B[38;5;124m'\u001B[39m]\n\u001B[1;32m    345\u001B[0m \u001B[38;5;28;01mif\u001B[39;00m name \u001B[38;5;129;01min\u001B[39;00m weight_names:\n\u001B[0;32m--> 346\u001B[0m   \u001B[38;5;28;01mraise\u001B[39;00m \u001B[38;5;167;01mException\u001B[39;00m(\n\u001B[1;32m    347\u001B[0m       \u001B[38;5;124m'\u001B[39m\u001B[38;5;124mError dumping weights, duplicate weight name \u001B[39m\u001B[38;5;124m'\u001B[39m \u001B[38;5;241m+\u001B[39m name)\n\u001B[1;32m    348\u001B[0m weight_names\u001B[38;5;241m.\u001B[39madd(name)\n",
      "\u001B[0;31mException\u001B[0m: Error dumping weights, duplicate weight name kernel"
     ]
    }
   ],
   "execution_count": 7
  },
  {
   "metadata": {},
   "cell_type": "code",
   "outputs": [],
   "execution_count": null,
   "source": "",
   "id": "26cb6de3df27f33c"
  }
 ],
 "metadata": {
  "kernelspec": {
   "display_name": "Python 3",
   "language": "python",
   "name": "python3"
  },
  "language_info": {
   "codemirror_mode": {
    "name": "ipython",
    "version": 2
   },
   "file_extension": ".py",
   "mimetype": "text/x-python",
   "name": "python",
   "nbconvert_exporter": "python",
   "pygments_lexer": "ipython2",
   "version": "2.7.6"
  }
 },
 "nbformat": 4,
 "nbformat_minor": 5
}
