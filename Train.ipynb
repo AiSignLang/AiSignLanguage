{
 "cells": [
  {
   "metadata": {},
   "cell_type": "markdown",
   "source": "# Training AI",
   "id": "c773a03f658324de"
  },
  {
   "metadata": {},
   "cell_type": "markdown",
   "source": "## Importing Libraries and setting config variables",
   "id": "9a7afd7b75072d74"
  },
  {
   "metadata": {
    "ExecuteTime": {
     "end_time": "2024-06-17T15:07:43.804211Z",
     "start_time": "2024-06-17T15:07:38.760419Z"
    }
   },
   "cell_type": "code",
   "source": [
    "import cv2\n",
    "import uuid\n",
    "import mediapipe as mp\n",
    "import tensorflow as tf\n",
    "\n",
    "from tensorflow.keras.callbacks import CSVLogger, TensorBoard, EarlyStopping\n",
    "from tensorflow.keras.models import Sequential\n",
    "from tensorflow.keras.layers import Input, LSTM, Dense, Dropout, BatchNormalization, Masking\n",
    "from tensorflow.keras.regularizers import l2"
   ],
   "id": "72039c7e52f8ea72",
   "outputs": [
    {
     "name": "stderr",
     "output_type": "stream",
     "text": [
      "2024-06-17 17:07:40.507866: I tensorflow/core/platform/cpu_feature_guard.cc:210] This TensorFlow binary is optimized to use available CPU instructions in performance-critical operations.\n",
      "To enable the following instructions: AVX2 FMA, in other operations, rebuild TensorFlow with the appropriate compiler flags.\n",
      "2024-06-17 17:07:41.784017: W tensorflow/compiler/tf2tensorrt/utils/py_utils.cc:38] TF-TRT Warning: Could not find TensorRT\n"
     ]
    }
   ],
   "execution_count": 1
  },
  {
   "metadata": {},
   "cell_type": "markdown",
   "source": "### Sequence and Shape Settings",
   "id": "e9c945c09725e4c0"
  },
  {
   "metadata": {
    "ExecuteTime": {
     "end_time": "2024-06-17T15:07:46.930052Z",
     "start_time": "2024-06-17T15:07:46.926851Z"
    }
   },
   "cell_type": "code",
   "source": [
    "sequence_length = 30  # Number of frames per sequence\n",
    "shape = (sequence_length, 1662)\n",
    "num_classes = 2"
   ],
   "id": "73de93821ac6241c",
   "outputs": [],
   "execution_count": 2
  },
  {
   "metadata": {},
   "cell_type": "markdown",
   "source": "### Data Path and actions",
   "id": "9f9aa6199c53c50"
  },
  {
   "metadata": {
    "ExecuteTime": {
     "end_time": "2024-06-17T15:07:49.254146Z",
     "start_time": "2024-06-17T15:07:49.250883Z"
    }
   },
   "cell_type": "code",
   "source": [
    "actions = ['j','hallo']  # List all your actions including idle\n",
    "DATA_PATH = 'CollectionBase/MP_Data/full'# Update with path to training data"
   ],
   "id": "4a99d2050f24f8de",
   "outputs": [],
   "execution_count": 3
  },
  {
   "metadata": {},
   "cell_type": "markdown",
   "source": "",
   "id": "e8704d17516bca93"
  },
  {
   "metadata": {},
   "cell_type": "markdown",
   "source": "### Activated landmarks",
   "id": "fa8092ccf2429682"
  },
  {
   "metadata": {
    "ExecuteTime": {
     "end_time": "2024-06-17T15:07:52.060040Z",
     "start_time": "2024-06-17T15:07:52.057110Z"
    }
   },
   "cell_type": "code",
   "source": [
    "landmarks = [True,True,True,True] # Select True/False for different landmarks \n",
    "# (face, pose, left hand, right hand)"
   ],
   "id": "1e5dd645801cffbb",
   "outputs": [],
   "execution_count": 4
  },
  {
   "metadata": {},
   "cell_type": "markdown",
   "source": "## Drawing Landmarks",
   "id": "79de2d00f18f22f8"
  },
  {
   "cell_type": "code",
   "id": "initial_id",
   "metadata": {
    "collapsed": true,
    "ExecuteTime": {
     "end_time": "2024-06-17T15:07:53.871768Z",
     "start_time": "2024-06-17T15:07:53.861810Z"
    }
   },
   "source": [
    "mp_holistic = mp.solutions.holistic # Holistic model\n",
    "mp_drawing = mp.solutions.drawing_utils # Drawing utilities\n",
    "\n",
    "def extract_keypoints(results):\n",
    "    arr = []\n",
    "    if landmarks[0]:\n",
    "        face = np.array([[res.x, res.y, res.z] for res in results.face_landmarks.landmark]).flatten() if results.face_landmarks else np.zeros(468*3)\n",
    "        arr.append(face)\n",
    "    if landmarks[1]:\n",
    "        pose = np.array([[res.x, res.y, res.z, res.visibility] for res in results.pose_landmarks.landmark]).flatten() if results.pose_landmarks else np.zeros(33*4)\n",
    "        arr.append(pose)\n",
    "    if landmarks[2]:\n",
    "        lh = np.array([[res.x, res.y, res.z] for res in results.left_hand_landmarks.landmark]).flatten() if results.left_hand_landmarks else np.zeros(21*3)\n",
    "        arr.append(lh)\n",
    "    if landmarks[3]:\n",
    "        rh = np.array([[res.x, res.y, res.z] for res in results.right_hand_landmarks.landmark]).flatten() if results.right_hand_landmarks else np.zeros(21*3)\n",
    "        arr.append(rh)\n",
    "    return np.concatenate(arr)\n",
    "\n",
    "def draw_landmarks(image, results):\n",
    "    if landmarks[0]:\n",
    "        mp_drawing.draw_landmarks(image, results.face_landmarks, mp_holistic.FACEMESH_TESSELATION) # Draw face connections\n",
    "    if landmarks[1]:\n",
    "        mp_drawing.draw_landmarks(image, results.pose_landmarks, mp_holistic.POSE_CONNECTIONS) # Draw pose connections\n",
    "    if landmarks[2]:\n",
    "        mp_drawing.draw_landmarks(image, results.left_hand_landmarks, mp_holistic.HAND_CONNECTIONS)\n",
    "    if landmarks[3]:\n",
    "        mp_drawing.draw_landmarks(image, results.right_hand_landmarks, mp_holistic.HAND_CONNECTIONS)\n",
    "\n",
    "def draw_styled_landmarks(image, results):\n",
    "    if landmarks[0]:\n",
    "        mp_drawing.draw_landmarks(image, results.face_landmarks, mp_holistic.FACEMESH_TESSELATION,\n",
    "                                  mp_drawing.DrawingSpec(color=(80,110,10), thickness=1, circle_radius=1),\n",
    "                                  mp_drawing.DrawingSpec(color=(80,256,121), thickness=1, circle_radius=1)\n",
    "                                  )\n",
    "    if landmarks[1]:\n",
    "        mp_drawing.draw_landmarks(image, results.pose_landmarks, mp_holistic.POSE_CONNECTIONS,\n",
    "                                  mp_drawing.DrawingSpec(color=(80,22,10), thickness=2, circle_radius=4),\n",
    "                                  mp_drawing.DrawingSpec(color=(80,44,121), thickness=2, circle_radius=2)\n",
    "                                  )\n",
    "    if landmarks[2]:\n",
    "        mp_drawing.draw_landmarks(image, results.left_hand_landmarks, mp_holistic.HAND_CONNECTIONS,\n",
    "                                  mp_drawing.DrawingSpec(color=(121,22,76), thickness=2, circle_radius=4),\n",
    "                                  mp_drawing.DrawingSpec(color=(121,44,250), thickness=2, circle_radius=2)\n",
    "                                  )\n",
    "    if landmarks[3]:\n",
    "        mp_drawing.draw_landmarks(image, results.right_hand_landmarks, mp_holistic.HAND_CONNECTIONS,\n",
    "                                  mp_drawing.DrawingSpec(color=(245,117,66), thickness=2, circle_radius=4),\n",
    "                                  mp_drawing.DrawingSpec(color=(245,66,230), thickness=2, circle_radius=2)\n",
    "                                  )"
   ],
   "outputs": [],
   "execution_count": 5
  },
  {
   "metadata": {},
   "cell_type": "markdown",
   "source": "## Labeling Data",
   "id": "c7d411789a7c25e"
  },
  {
   "metadata": {
    "ExecuteTime": {
     "end_time": "2024-06-17T15:08:00.193963Z",
     "start_time": "2024-06-17T15:07:59.408142Z"
    }
   },
   "cell_type": "code",
   "source": [
    "import os\n",
    "import numpy as np\n",
    "from sklearn.model_selection import train_test_split\n",
    "from tensorflow.keras.utils import to_categorical\n",
    "\n",
    "sequences, labels = [], []\n",
    "\n",
    "# Label -> Number mapping\n",
    "label_map = {label: num for num, label in enumerate(actions)}\n",
    "\n",
    "# Load data\n",
    "for action in actions:\n",
    "    action_dir = os.path.join(DATA_PATH, action)\n",
    "    for sequence in np.array(os.listdir(action_dir)).astype(int):\n",
    "        window = []\n",
    "        for frame_num in range(sequence_length):\n",
    "            frame_path = os.path.join(action_dir, str(sequence), f\"{frame_num}.npy\")\n",
    "            res = np.load(frame_path)\n",
    "            window.append(res)\n",
    "        sequences.append(window)\n",
    "        labels.append(label_map[action])\n",
    "\n",
    "# Convert to numpy arrays\n",
    "X = np.array(sequences)\n",
    "y = to_categorical(labels).astype(int)\n",
    "\n",
    "# Split the data into training and testing sets\n",
    "X_train, X_test, y_train, y_test = train_test_split(X, y, test_size=0.1, random_state=42)\n",
    "# /TODO: Maybe higher test size\n",
    "\n",
    "# Print the shape of the data\n",
    "print(f\"Total sequences: {len(sequences)}\")\n",
    "print(f\"X shape: {X.shape}\")\n",
    "print(f\"y shape: {y.shape}\")\n",
    "print(f\"X_train shape: {X_train.shape}, y_train shape: {y_train.shape}\")\n",
    "print(f\"X_test shape: {X_test.shape}, y_test shape: {y_test.shape}\")\n"
   ],
   "id": "23c4cf3e39fd9d6e",
   "outputs": [
    {
     "name": "stdout",
     "output_type": "stream",
     "text": [
      "Total sequences: 75\n",
      "X shape: (75, 30, 1662)\n",
      "y shape: (75, 2)\n",
      "X_train shape: (67, 30, 1662), y_train shape: (67, 2)\n",
      "X_test shape: (8, 30, 1662), y_test shape: (8, 2)\n"
     ]
    }
   ],
   "execution_count": 6
  },
  {
   "metadata": {},
   "cell_type": "markdown",
   "source": "### Version 0.1.0\n",
   "id": "6e269a203136e315"
  },
  {
   "metadata": {},
   "cell_type": "code",
   "source": [
    "# region Version 0.1.0\n",
    "# Define the L2 regularization factor\n",
    "l2_factor = 0.01\n",
    "\n",
    "model = Sequential()\n",
    "\n",
    "# Input layer\n",
    "model.add(Input(shape=shape))\n",
    "\n",
    "# Adding LSTM layers with L2 regularization\n",
    "model.add(LSTM(128, return_sequences=True, kernel_regularizer=l2(l2_factor)))\n",
    "model.add(Dropout(0.3))\n",
    "model.add(BatchNormalization())\n",
    "\n",
    "model.add(LSTM(128, return_sequences=True, kernel_regularizer=l2(l2_factor)))\n",
    "model.add(Dropout(0.3))\n",
    "model.add(BatchNormalization())\n",
    "\n",
    "model.add(LSTM(128, kernel_regularizer=l2(l2_factor)))\n",
    "model.add(Dropout(0.3))\n",
    "model.add(BatchNormalization())\n",
    "\n",
    "# Fully connected layer with L2 regularization\n",
    "model.add(Dense(256, activation='relu', kernel_regularizer=l2(l2_factor)))\n",
    "model.add(Dropout(0.3))\n",
    "\n",
    "# Output layer for num_classes with L2 regularization\n",
    "model.add(Dense(num_classes, activation='softmax', kernel_regularizer=l2(l2_factor)))\n",
    "\n",
    "# Set up CSVLogger\n",
    "csv_logger = CSVLogger('training_log.csv', append=True)\n",
    "\n",
    "# Set up TensorBoard\n",
    "log_dir = os.path.join(\"logs\", \"fit\", \"sign_language_recognition\")\n",
    "tensorboard_callback = TensorBoard(log_dir=log_dir, histogram_freq=1)\n",
    "\n",
    "# Early stopping callback\n",
    "early_stopping = EarlyStopping(monitor='val_loss', patience=5, restore_best_weights=True)\n",
    "\n",
    "# List of callbacks\n",
    "callbacks = [csv_logger, tensorboard_callback, early_stopping]\n",
    "# endregion"
   ],
   "id": "85512f50e9a296d1",
   "outputs": [],
   "execution_count": null
  },
  {
   "metadata": {},
   "cell_type": "markdown",
   "source": "",
   "id": "cda9bdac77566c7f"
  },
  {
   "metadata": {},
   "cell_type": "markdown",
   "source": "### Compact LSTM (RNN)",
   "id": "17eebef00fb158ba"
  },
  {
   "metadata": {
    "ExecuteTime": {
     "end_time": "2024-06-05T11:14:57.175727Z",
     "start_time": "2024-06-05T11:14:57.173786Z"
    }
   },
   "cell_type": "code",
   "source": [
    "# region Small LSTM\n",
    "model = Sequential()\n",
    "model.add(Masking(mask_value=0., input_shape=shape))  # Adjust input shape accordingly\n",
    "model.add(LSTM(128, return_sequences=True))\n",
    "model.add(Dropout(0.5))\n",
    "model.add(LSTM(128, return_sequences=False))\n",
    "model.add(Dense(64, activation='relu'))\n",
    "model.add(Dropout(0.5))\n",
    "model.add(Dense(num_classes, activation='softmax')) \n",
    "# endregion"
   ],
   "id": "99053e38ab77cfe3",
   "outputs": [],
   "execution_count": 6
  },
  {
   "metadata": {},
   "cell_type": "markdown",
   "source": "# Most accuracte",
   "id": "2f8da0e6594a70e0"
  },
  {
   "metadata": {
    "ExecuteTime": {
     "end_time": "2024-06-14T10:39:33.973229Z",
     "start_time": "2024-06-14T10:39:33.865212Z"
    }
   },
   "cell_type": "code",
   "source": [
    "# region Most accurate Model\n",
    "l2_factor = 0.00\n",
    "dropout = 0.2\n",
    "# These two are for better generalization dropout is 20% and L2 regularization is 0.00\n",
    "\n",
    "model = Sequential()\n",
    "\n",
    "# Masking 0.0 values because keypoints that are not on the screen are 0.0\n",
    "model.add(Masking(mask_value=0., input_shape=shape))  # Adjust input shape accordingly\n",
    "\n",
    "model.add(LSTM(128, return_sequences=True, kernel_regularizer=l2(l2_factor)))\n",
    "model.add(Dropout(dropout))\n",
    "model.add(BatchNormalization())\n",
    "\n",
    "model.add(LSTM(128, return_sequences=True, kernel_regularizer=l2(l2_factor)))\n",
    "model.add(Dropout(dropout))\n",
    "model.add(BatchNormalization())\n",
    "\n",
    "model.add(LSTM(128, kernel_regularizer=l2(l2_factor)))\n",
    "model.add(Dropout(dropout))\n",
    "model.add(BatchNormalization())\n",
    "\n",
    "model.add(Dense(256, activation='relu', kernel_regularizer=l2(l2_factor)))\n",
    "model.add(Dropout(dropout))\n",
    "\n",
    "model.add(Dense(num_classes, activation='softmax', kernel_regularizer=l2(l2_factor)))\n",
    "\n",
    "\n",
    "# Statistics\n",
    "csv_logger = CSVLogger('training_log.csv', append=True)\n",
    "log_dir = os.path.join(\"logs\", \"fit\", \"sign_language_recognition\")\n",
    "tensorboard_callback = TensorBoard(log_dir=log_dir, histogram_freq=1)\n",
    "# Early stopping callback\n",
    "early_stopping = EarlyStopping(monitor='val_loss', patience=5, restore_best_weights=True)\n",
    "\n",
    "# List of callbacks\n",
    "callbacks = [csv_logger, tensorboard_callback, early_stopping]\n",
    "# endregion"
   ],
   "id": "9dd7a17a1feeefa",
   "outputs": [],
   "execution_count": 29
  },
  {
   "metadata": {},
   "cell_type": "markdown",
   "source": "# Experimental",
   "id": "3745eada6277bb17"
  },
  {
   "metadata": {
    "ExecuteTime": {
     "end_time": "2024-06-14T10:51:12.740604Z",
     "start_time": "2024-06-14T10:51:12.632129Z"
    }
   },
   "cell_type": "code",
   "source": [
    "l2_factor = 0.02\n",
    "dropout = 0.2\n",
    "# These two are for better generalization dropout is 20% and L2 regularization is 0.02\n",
    "\n",
    "model = Sequential()\n",
    "\n",
    "# Masking 0.0 values because keypoints that are not on the screen are 0.0\n",
    "model.add(Masking(mask_value=0., input_shape=shape))  # Adjust input shape accordingly\n",
    "\n",
    "model.add(LSTM(128, return_sequences=True, kernel_regularizer=l2(l2_factor)))\n",
    "model.add(BatchNormalization())\n",
    "model.add(Dropout(dropout))\n",
    "model.add(Dense(256, activation='relu', kernel_regularizer=l2(l2_factor)))\n",
    "\n",
    "model.add(LSTM(128, return_sequences=True, kernel_regularizer=l2(l2_factor)))\n",
    "model.add(BatchNormalization())\n",
    "model.add(Dropout(dropout))\n",
    "model.add(Dense(256, activation='relu', kernel_regularizer=l2(l2_factor)))\n",
    "\n",
    "\n",
    "model.add(LSTM(128, kernel_regularizer=l2(l2_factor)))\n",
    "model.add(BatchNormalization())\n",
    "model.add(Dropout(dropout))\n",
    "model.add(Dense(256, activation='relu', kernel_regularizer=l2(l2_factor)))\n",
    "\n",
    "#model.add(Dropout(dropout))\n",
    "\n",
    "model.add(Dense(num_classes, activation='softmax', kernel_regularizer=l2(l2_factor)))\n",
    "\n",
    "\n",
    "# Statistics\n",
    "csv_logger = CSVLogger('training_log.csv', append=True)\n",
    "log_dir = os.path.join(\"logs\", \"fit\", \"sign_language_recognition\")\n",
    "tensorboard_callback = TensorBoard(log_dir=log_dir, histogram_freq=1)\n",
    "# Early stopping callback\n",
    "early_stopping = EarlyStopping(monitor='val_loss', patience=5, restore_best_weights=True)\n",
    "\n",
    "# List of callbacks\n",
    "callbacks = [csv_logger, tensorboard_callback, early_stopping]"
   ],
   "id": "a1a5801cdc7015ce",
   "outputs": [],
   "execution_count": 11
  },
  {
   "metadata": {
    "ExecuteTime": {
     "end_time": "2024-06-14T11:40:38.546036Z",
     "start_time": "2024-06-14T11:40:38.453312Z"
    }
   },
   "cell_type": "code",
   "source": [
    "l2_factor = 0.00\n",
    "dropout = 0.2\n",
    "# These two are for better generalization dropout is 20% and L2 regularization is 0.00\n",
    "\n",
    "model = Sequential()\n",
    "\n",
    "# Masking 0.0 values because keypoints that are not on the screen are 0.0\n",
    "model.add(Masking(mask_value=0., input_shape=shape))  # Adjust input shape accordingly\n",
    "\n",
    "model.add(LSTM(128, return_sequences=True))\n",
    "model.add(Dropout(dropout))\n",
    "model.add(Dense(256, activation='relu'))\n",
    "\n",
    "model.add(LSTM(128, return_sequences=True))\n",
    "model.add(Dropout(dropout))\n",
    "model.add(Dense(256, activation='relu'))\n",
    "\n",
    "\n",
    "model.add(LSTM(128))\n",
    "#model.add(Dropout(dropout))\n",
    "model.add(Dense(256, activation='relu'))\n",
    "\n",
    "#model.add(Dropout(dropout))\n",
    "\n",
    "model.add(Dense(num_classes, activation='softmax', kernel_regularizer=l2(l2_factor)))\n",
    "\n",
    "\n",
    "# Statistics\n",
    "csv_logger = CSVLogger('training_log.csv', append=True)\n",
    "log_dir = os.path.join(\"logs\", \"fit\", \"sign_language_recognition\")\n",
    "tensorboard_callback = TensorBoard(log_dir=log_dir, histogram_freq=1)\n",
    "# Early stopping callback\n",
    "\n",
    "# List of callbacks\n",
    "callbacks = [csv_logger, tensorboard_callback, early_stopping]"
   ],
   "id": "f7a7fe3ee2b5aee0",
   "outputs": [],
   "execution_count": 30
  },
  {
   "metadata": {},
   "cell_type": "markdown",
   "source": "# Vanilla\n",
   "id": "62a333c19f425f59"
  },
  {
   "metadata": {
    "ExecuteTime": {
     "end_time": "2024-06-17T15:15:19.084710Z",
     "start_time": "2024-06-17T15:15:18.997185Z"
    }
   },
   "cell_type": "code",
   "source": [
    "model = Sequential()\n",
    "model.add(Masking(mask_value=0., input_shape=shape))  # Adjust input shape accordingly\n",
    "model.add(LSTM(64, return_sequences=True, activation='relu'))\n",
    "model.add(LSTM(128, return_sequences=True, activation='relu'))\n",
    "model.add(LSTM(64, return_sequences=False, activation='relu'))\n",
    "model.add(Dense(64, activation='relu'))\n",
    "model.add(Dense(32, activation='relu'))\n",
    "model.add(Dense(num_classes, activation='softmax'))\n",
    "\n",
    "# Statistics\n",
    "csv_logger = CSVLogger('training_log.csv', append=True)\n",
    "log_dir = os.path.join(\"logs\", \"fit\", \"sign_language_recognition\")\n",
    "tensorboard_callback = TensorBoard(log_dir=log_dir, histogram_freq=1)\n",
    "# Early stopping callback\n",
    "\n",
    "# List of callbacks\n",
    "callbacks = [csv_logger, tensorboard_callback]"
   ],
   "id": "b32122d5260635e9",
   "outputs": [
    {
     "name": "stderr",
     "output_type": "stream",
     "text": [
      "/home/eelam/Desktop/AiSL/AiSignLanguage/venv/lib/python3.10/site-packages/keras/src/layers/core/masking.py:47: UserWarning: Do not pass an `input_shape`/`input_dim` argument to a layer. When using Sequential models, prefer using an `Input(shape)` object as the first layer in the model instead.\n",
      "  super().__init__(**kwargs)\n"
     ]
    }
   ],
   "execution_count": 24
  },
  {
   "metadata": {},
   "cell_type": "markdown",
   "source": "",
   "id": "8a065e9ab453d207"
  },
  {
   "metadata": {},
   "cell_type": "markdown",
   "source": "## Execution",
   "id": "b7798f6fcef31617"
  },
  {
   "metadata": {
    "ExecuteTime": {
     "end_time": "2024-06-17T15:19:09.280214Z",
     "start_time": "2024-06-17T15:18:35.656141Z"
    }
   },
   "cell_type": "code",
   "source": [
    "model.compile(optimizer='adam', loss='categorical_crossentropy', metrics=['accuracy'])\n",
    "model.fit(X_train, y_train, epochs=100, validation_data=(X_test, y_test), callbacks=callbacks)\n",
    "\n",
    "\n",
    "loss, accuracy = model.evaluate(X_test, y_test)\n",
    "print(f'Test loss: {loss}')\n",
    "print(f'Test accuracy: {accuracy}')"
   ],
   "id": "b79c1710389baf2c",
   "outputs": [
    {
     "name": "stdout",
     "output_type": "stream",
     "text": [
      "Epoch 1/100\n",
      "\u001B[1m3/3\u001B[0m \u001B[32m━━━━━━━━━━━━━━━━━━━━\u001B[0m\u001B[37m\u001B[0m \u001B[1m5s\u001B[0m 271ms/step - accuracy: 0.5489 - loss: 1.4235 - val_accuracy: 0.2500 - val_loss: 1.0880\n",
      "Epoch 2/100\n",
      "\u001B[1m3/3\u001B[0m \u001B[32m━━━━━━━━━━━━━━━━━━━━\u001B[0m\u001B[37m\u001B[0m \u001B[1m0s\u001B[0m 106ms/step - accuracy: 0.4355 - loss: 1.0783 - val_accuracy: 0.1250 - val_loss: 0.8599\n",
      "Epoch 3/100\n",
      "\u001B[1m3/3\u001B[0m \u001B[32m━━━━━━━━━━━━━━━━━━━━\u001B[0m\u001B[37m\u001B[0m \u001B[1m0s\u001B[0m 101ms/step - accuracy: 0.4579 - loss: 1.3002 - val_accuracy: 0.7500 - val_loss: 1.1310\n",
      "Epoch 4/100\n",
      "\u001B[1m3/3\u001B[0m \u001B[32m━━━━━━━━━━━━━━━━━━━━\u001B[0m\u001B[37m\u001B[0m \u001B[1m0s\u001B[0m 102ms/step - accuracy: 0.5730 - loss: 1.1423 - val_accuracy: 0.2500 - val_loss: 0.9594\n",
      "Epoch 5/100\n",
      "\u001B[1m3/3\u001B[0m \u001B[32m━━━━━━━━━━━━━━━━━━━━\u001B[0m\u001B[37m\u001B[0m \u001B[1m0s\u001B[0m 99ms/step - accuracy: 0.4234 - loss: 2.1518 - val_accuracy: 0.2500 - val_loss: 6.8452\n",
      "Epoch 6/100\n",
      "\u001B[1m3/3\u001B[0m \u001B[32m━━━━━━━━━━━━━━━━━━━━\u001B[0m\u001B[37m\u001B[0m \u001B[1m0s\u001B[0m 103ms/step - accuracy: 0.4352 - loss: 5.0029 - val_accuracy: 0.5000 - val_loss: 7.4983\n",
      "Epoch 7/100\n",
      "\u001B[1m3/3\u001B[0m \u001B[32m━━━━━━━━━━━━━━━━━━━━\u001B[0m\u001B[37m\u001B[0m \u001B[1m0s\u001B[0m 99ms/step - accuracy: 0.4849 - loss: 5.3388 - val_accuracy: 0.3750 - val_loss: 6.9080\n",
      "Epoch 8/100\n",
      "\u001B[1m3/3\u001B[0m \u001B[32m━━━━━━━━━━━━━━━━━━━━\u001B[0m\u001B[37m\u001B[0m \u001B[1m0s\u001B[0m 109ms/step - accuracy: 0.5265 - loss: 4.8269 - val_accuracy: 0.5000 - val_loss: 7.6713\n",
      "Epoch 9/100\n",
      "\u001B[1m3/3\u001B[0m \u001B[32m━━━━━━━━━━━━━━━━━━━━\u001B[0m\u001B[37m\u001B[0m \u001B[1m0s\u001B[0m 108ms/step - accuracy: 0.5112 - loss: 8.4185 - val_accuracy: 0.5000 - val_loss: 6.5538\n",
      "Epoch 10/100\n",
      "\u001B[1m3/3\u001B[0m \u001B[32m━━━━━━━━━━━━━━━━━━━━\u001B[0m\u001B[37m\u001B[0m \u001B[1m0s\u001B[0m 114ms/step - accuracy: 0.4089 - loss: 11.8517 - val_accuracy: 0.3750 - val_loss: 10.0878\n",
      "Epoch 11/100\n",
      "\u001B[1m3/3\u001B[0m \u001B[32m━━━━━━━━━━━━━━━━━━━━\u001B[0m\u001B[37m\u001B[0m \u001B[1m0s\u001B[0m 103ms/step - accuracy: 0.4810 - loss: 6.5833 - val_accuracy: 0.5000 - val_loss: 2.5717\n",
      "Epoch 12/100\n",
      "\u001B[1m3/3\u001B[0m \u001B[32m━━━━━━━━━━━━━━━━━━━━\u001B[0m\u001B[37m\u001B[0m \u001B[1m0s\u001B[0m 119ms/step - accuracy: 0.4352 - loss: 2.4442 - val_accuracy: 0.2500 - val_loss: 2.0799\n",
      "Epoch 13/100\n",
      "\u001B[1m3/3\u001B[0m \u001B[32m━━━━━━━━━━━━━━━━━━━━\u001B[0m\u001B[37m\u001B[0m \u001B[1m0s\u001B[0m 106ms/step - accuracy: 0.4608 - loss: 2.1559 - val_accuracy: 0.7500 - val_loss: 0.4432\n",
      "Epoch 14/100\n",
      "\u001B[1m3/3\u001B[0m \u001B[32m━━━━━━━━━━━━━━━━━━━━\u001B[0m\u001B[37m\u001B[0m \u001B[1m0s\u001B[0m 109ms/step - accuracy: 0.5229 - loss: 3.0942 - val_accuracy: 0.2500 - val_loss: 6.5990\n",
      "Epoch 15/100\n",
      "\u001B[1m3/3\u001B[0m \u001B[32m━━━━━━━━━━━━━━━━━━━━\u001B[0m\u001B[37m\u001B[0m \u001B[1m0s\u001B[0m 111ms/step - accuracy: 0.4313 - loss: 3.4115 - val_accuracy: 0.7500 - val_loss: 3.3031\n",
      "Epoch 16/100\n",
      "\u001B[1m3/3\u001B[0m \u001B[32m━━━━━━━━━━━━━━━━━━━━\u001B[0m\u001B[37m\u001B[0m \u001B[1m0s\u001B[0m 108ms/step - accuracy: 0.5957 - loss: 6.0783 - val_accuracy: 0.7500 - val_loss: 1.5339\n",
      "Epoch 17/100\n",
      "\u001B[1m3/3\u001B[0m \u001B[32m━━━━━━━━━━━━━━━━━━━━\u001B[0m\u001B[37m\u001B[0m \u001B[1m0s\u001B[0m 108ms/step - accuracy: 0.6035 - loss: 4.2782 - val_accuracy: 0.7500 - val_loss: 1.7599\n",
      "Epoch 18/100\n",
      "\u001B[1m3/3\u001B[0m \u001B[32m━━━━━━━━━━━━━━━━━━━━\u001B[0m\u001B[37m\u001B[0m \u001B[1m0s\u001B[0m 107ms/step - accuracy: 0.5687 - loss: 2.8775 - val_accuracy: 0.2500 - val_loss: 3.2271\n",
      "Epoch 19/100\n",
      "\u001B[1m3/3\u001B[0m \u001B[32m━━━━━━━━━━━━━━━━━━━━\u001B[0m\u001B[37m\u001B[0m \u001B[1m0s\u001B[0m 111ms/step - accuracy: 0.5531 - loss: 3.2490 - val_accuracy: 0.6250 - val_loss: 1.7506\n",
      "Epoch 20/100\n",
      "\u001B[1m3/3\u001B[0m \u001B[32m━━━━━━━━━━━━━━━━━━━━\u001B[0m\u001B[37m\u001B[0m \u001B[1m0s\u001B[0m 108ms/step - accuracy: 0.2785 - loss: 4.3243 - val_accuracy: 0.2500 - val_loss: 5.9969\n",
      "Epoch 21/100\n",
      "\u001B[1m3/3\u001B[0m \u001B[32m━━━━━━━━━━━━━━━━━━━━\u001B[0m\u001B[37m\u001B[0m \u001B[1m0s\u001B[0m 110ms/step - accuracy: 0.4757 - loss: 3.3684 - val_accuracy: 0.3750 - val_loss: 1.8516\n",
      "Epoch 22/100\n",
      "\u001B[1m3/3\u001B[0m \u001B[32m━━━━━━━━━━━━━━━━━━━━\u001B[0m\u001B[37m\u001B[0m \u001B[1m0s\u001B[0m 108ms/step - accuracy: 0.3744 - loss: 1.9545 - val_accuracy: 0.7500 - val_loss: 0.7953\n",
      "Epoch 23/100\n",
      "\u001B[1m3/3\u001B[0m \u001B[32m━━━━━━━━━━━━━━━━━━━━\u001B[0m\u001B[37m\u001B[0m \u001B[1m0s\u001B[0m 134ms/step - accuracy: 0.6991 - loss: 0.9186 - val_accuracy: 0.6250 - val_loss: 0.8977\n",
      "Epoch 24/100\n",
      "\u001B[1m3/3\u001B[0m \u001B[32m━━━━━━━━━━━━━━━━━━━━\u001B[0m\u001B[37m\u001B[0m \u001B[1m0s\u001B[0m 119ms/step - accuracy: 0.5538 - loss: 1.4550 - val_accuracy: 0.5000 - val_loss: 1.1802\n",
      "Epoch 25/100\n",
      "\u001B[1m3/3\u001B[0m \u001B[32m━━━━━━━━━━━━━━━━━━━━\u001B[0m\u001B[37m\u001B[0m \u001B[1m0s\u001B[0m 135ms/step - accuracy: 0.4927 - loss: 1.0253 - val_accuracy: 0.2500 - val_loss: 1.5016\n",
      "Epoch 26/100\n",
      "\u001B[1m3/3\u001B[0m \u001B[32m━━━━━━━━━━━━━━━━━━━━\u001B[0m\u001B[37m\u001B[0m \u001B[1m0s\u001B[0m 130ms/step - accuracy: 0.4810 - loss: 1.8039 - val_accuracy: 0.1250 - val_loss: 2.5969\n",
      "Epoch 27/100\n",
      "\u001B[1m3/3\u001B[0m \u001B[32m━━━━━━━━━━━━━━━━━━━━\u001B[0m\u001B[37m\u001B[0m \u001B[1m0s\u001B[0m 137ms/step - accuracy: 0.4277 - loss: 1.6649 - val_accuracy: 0.5000 - val_loss: 1.2689\n",
      "Epoch 28/100\n",
      "\u001B[1m3/3\u001B[0m \u001B[32m━━━━━━━━━━━━━━━━━━━━\u001B[0m\u001B[37m\u001B[0m \u001B[1m0s\u001B[0m 126ms/step - accuracy: 0.5989 - loss: 1.1271 - val_accuracy: 0.6250 - val_loss: 0.7559\n",
      "Epoch 29/100\n",
      "\u001B[1m3/3\u001B[0m \u001B[32m━━━━━━━━━━━━━━━━━━━━\u001B[0m\u001B[37m\u001B[0m \u001B[1m0s\u001B[0m 117ms/step - accuracy: 0.6107 - loss: 0.6702 - val_accuracy: 0.2500 - val_loss: 0.8265\n",
      "Epoch 30/100\n",
      "\u001B[1m3/3\u001B[0m \u001B[32m━━━━━━━━━━━━━━━━━━━━\u001B[0m\u001B[37m\u001B[0m \u001B[1m0s\u001B[0m 112ms/step - accuracy: 0.1560 - loss: 0.9353 - val_accuracy: 0.7500 - val_loss: 0.6316\n",
      "Epoch 31/100\n",
      "\u001B[1m3/3\u001B[0m \u001B[32m━━━━━━━━━━━━━━━━━━━━\u001B[0m\u001B[37m\u001B[0m \u001B[1m0s\u001B[0m 109ms/step - accuracy: 0.5879 - loss: 0.7215 - val_accuracy: 0.7500 - val_loss: 0.6293\n",
      "Epoch 32/100\n",
      "\u001B[1m3/3\u001B[0m \u001B[32m━━━━━━━━━━━━━━━━━━━━\u001B[0m\u001B[37m\u001B[0m \u001B[1m0s\u001B[0m 111ms/step - accuracy: 0.6075 - loss: 0.6787 - val_accuracy: 0.7500 - val_loss: 0.6129\n",
      "Epoch 33/100\n",
      "\u001B[1m3/3\u001B[0m \u001B[32m━━━━━━━━━━━━━━━━━━━━\u001B[0m\u001B[37m\u001B[0m \u001B[1m0s\u001B[0m 109ms/step - accuracy: 0.5918 - loss: 0.7632 - val_accuracy: 0.7500 - val_loss: 0.6237\n",
      "Epoch 34/100\n",
      "\u001B[1m3/3\u001B[0m \u001B[32m━━━━━━━━━━━━━━━━━━━━\u001B[0m\u001B[37m\u001B[0m \u001B[1m0s\u001B[0m 115ms/step - accuracy: 0.6220 - loss: 0.7283 - val_accuracy: 0.7500 - val_loss: 0.6823\n",
      "Epoch 35/100\n",
      "\u001B[1m3/3\u001B[0m \u001B[32m━━━━━━━━━━━━━━━━━━━━\u001B[0m\u001B[37m\u001B[0m \u001B[1m0s\u001B[0m 106ms/step - accuracy: 0.4963 - loss: 0.8240 - val_accuracy: 0.2500 - val_loss: 0.7193\n",
      "Epoch 36/100\n",
      "\u001B[1m3/3\u001B[0m \u001B[32m━━━━━━━━━━━━━━━━━━━━\u001B[0m\u001B[37m\u001B[0m \u001B[1m0s\u001B[0m 118ms/step - accuracy: 0.5609 - loss: 0.7798 - val_accuracy: 0.7500 - val_loss: 0.6873\n",
      "Epoch 37/100\n",
      "\u001B[1m3/3\u001B[0m \u001B[32m━━━━━━━━━━━━━━━━━━━━\u001B[0m\u001B[37m\u001B[0m \u001B[1m0s\u001B[0m 111ms/step - accuracy: 0.6110 - loss: 0.8308 - val_accuracy: 0.7500 - val_loss: 0.6284\n",
      "Epoch 38/100\n",
      "\u001B[1m3/3\u001B[0m \u001B[32m━━━━━━━━━━━━━━━━━━━━\u001B[0m\u001B[37m\u001B[0m \u001B[1m0s\u001B[0m 117ms/step - accuracy: 0.6650 - loss: 0.7016 - val_accuracy: 0.8750 - val_loss: 0.6692\n",
      "Epoch 39/100\n",
      "\u001B[1m3/3\u001B[0m \u001B[32m━━━━━━━━━━━━━━━━━━━━\u001B[0m\u001B[37m\u001B[0m \u001B[1m0s\u001B[0m 114ms/step - accuracy: 0.6984 - loss: 0.6505 - val_accuracy: 0.8750 - val_loss: 0.5792\n",
      "Epoch 40/100\n",
      "\u001B[1m3/3\u001B[0m \u001B[32m━━━━━━━━━━━━━━━━━━━━\u001B[0m\u001B[37m\u001B[0m \u001B[1m0s\u001B[0m 108ms/step - accuracy: 0.7868 - loss: 0.5871 - val_accuracy: 0.3750 - val_loss: 0.7415\n",
      "Epoch 41/100\n",
      "\u001B[1m3/3\u001B[0m \u001B[32m━━━━━━━━━━━━━━━━━━━━\u001B[0m\u001B[37m\u001B[0m \u001B[1m0s\u001B[0m 109ms/step - accuracy: 0.5265 - loss: 0.8696 - val_accuracy: 0.2500 - val_loss: 1.3365\n",
      "Epoch 42/100\n",
      "\u001B[1m3/3\u001B[0m \u001B[32m━━━━━━━━━━━━━━━━━━━━\u001B[0m\u001B[37m\u001B[0m \u001B[1m0s\u001B[0m 108ms/step - accuracy: 0.4046 - loss: 1.1038 - val_accuracy: 0.6250 - val_loss: 0.7265\n",
      "Epoch 43/100\n",
      "\u001B[1m3/3\u001B[0m \u001B[32m━━━━━━━━━━━━━━━━━━━━\u001B[0m\u001B[37m\u001B[0m \u001B[1m0s\u001B[0m 109ms/step - accuracy: 0.6068 - loss: 0.7239 - val_accuracy: 0.5000 - val_loss: 0.7015\n",
      "Epoch 44/100\n",
      "\u001B[1m3/3\u001B[0m \u001B[32m━━━━━━━━━━━━━━━━━━━━\u001B[0m\u001B[37m\u001B[0m \u001B[1m0s\u001B[0m 112ms/step - accuracy: 0.5073 - loss: 0.7320 - val_accuracy: 0.7500 - val_loss: 0.4800\n",
      "Epoch 45/100\n",
      "\u001B[1m3/3\u001B[0m \u001B[32m━━━━━━━━━━━━━━━━━━━━\u001B[0m\u001B[37m\u001B[0m \u001B[1m0s\u001B[0m 109ms/step - accuracy: 0.5801 - loss: 0.7177 - val_accuracy: 0.7500 - val_loss: 0.5326\n",
      "Epoch 46/100\n",
      "\u001B[1m3/3\u001B[0m \u001B[32m━━━━━━━━━━━━━━━━━━━━\u001B[0m\u001B[37m\u001B[0m \u001B[1m0s\u001B[0m 111ms/step - accuracy: 0.7520 - loss: 0.5587 - val_accuracy: 0.7500 - val_loss: 0.5718\n",
      "Epoch 47/100\n",
      "\u001B[1m3/3\u001B[0m \u001B[32m━━━━━━━━━━━━━━━━━━━━\u001B[0m\u001B[37m\u001B[0m \u001B[1m0s\u001B[0m 109ms/step - accuracy: 0.7371 - loss: 0.5205 - val_accuracy: 0.7500 - val_loss: 0.4978\n",
      "Epoch 48/100\n",
      "\u001B[1m3/3\u001B[0m \u001B[32m━━━━━━━━━━━━━━━━━━━━\u001B[0m\u001B[37m\u001B[0m \u001B[1m0s\u001B[0m 108ms/step - accuracy: 0.6377 - loss: 0.6146 - val_accuracy: 0.7500 - val_loss: 0.5469\n",
      "Epoch 49/100\n",
      "\u001B[1m3/3\u001B[0m \u001B[32m━━━━━━━━━━━━━━━━━━━━\u001B[0m\u001B[37m\u001B[0m \u001B[1m0s\u001B[0m 113ms/step - accuracy: 0.5989 - loss: 0.7532 - val_accuracy: 0.7500 - val_loss: 0.5762\n",
      "Epoch 50/100\n",
      "\u001B[1m3/3\u001B[0m \u001B[32m━━━━━━━━━━━━━━━━━━━━\u001B[0m\u001B[37m\u001B[0m \u001B[1m0s\u001B[0m 110ms/step - accuracy: 0.6607 - loss: 0.6516 - val_accuracy: 0.8750 - val_loss: 0.5471\n",
      "Epoch 51/100\n",
      "\u001B[1m3/3\u001B[0m \u001B[32m━━━━━━━━━━━━━━━━━━━━\u001B[0m\u001B[37m\u001B[0m \u001B[1m0s\u001B[0m 107ms/step - accuracy: 0.7904 - loss: 0.5661 - val_accuracy: 0.8750 - val_loss: 0.4889\n",
      "Epoch 52/100\n",
      "\u001B[1m3/3\u001B[0m \u001B[32m━━━━━━━━━━━━━━━━━━━━\u001B[0m\u001B[37m\u001B[0m \u001B[1m0s\u001B[0m 117ms/step - accuracy: 0.7595 - loss: 0.6085 - val_accuracy: 0.8750 - val_loss: 0.5238\n",
      "Epoch 53/100\n",
      "\u001B[1m3/3\u001B[0m \u001B[32m━━━━━━━━━━━━━━━━━━━━\u001B[0m\u001B[37m\u001B[0m \u001B[1m0s\u001B[0m 116ms/step - accuracy: 0.7066 - loss: 0.6366 - val_accuracy: 0.7500 - val_loss: 0.6649\n",
      "Epoch 54/100\n",
      "\u001B[1m3/3\u001B[0m \u001B[32m━━━━━━━━━━━━━━━━━━━━\u001B[0m\u001B[37m\u001B[0m \u001B[1m0s\u001B[0m 131ms/step - accuracy: 0.6377 - loss: 0.5728 - val_accuracy: 0.7500 - val_loss: 0.6700\n",
      "Epoch 55/100\n",
      "\u001B[1m3/3\u001B[0m \u001B[32m━━━━━━━━━━━━━━━━━━━━\u001B[0m\u001B[37m\u001B[0m \u001B[1m0s\u001B[0m 133ms/step - accuracy: 0.5954 - loss: 0.6048 - val_accuracy: 0.7500 - val_loss: 0.6531\n",
      "Epoch 56/100\n",
      "\u001B[1m3/3\u001B[0m \u001B[32m━━━━━━━━━━━━━━━━━━━━\u001B[0m\u001B[37m\u001B[0m \u001B[1m0s\u001B[0m 122ms/step - accuracy: 0.6646 - loss: 0.6135 - val_accuracy: 0.7500 - val_loss: 0.6420\n",
      "Epoch 57/100\n",
      "\u001B[1m3/3\u001B[0m \u001B[32m━━━━━━━━━━━━━━━━━━━━\u001B[0m\u001B[37m\u001B[0m \u001B[1m0s\u001B[0m 109ms/step - accuracy: 0.7741 - loss: 0.5621 - val_accuracy: 0.8750 - val_loss: 0.6344\n",
      "Epoch 58/100\n",
      "\u001B[1m3/3\u001B[0m \u001B[32m━━━━━━━━━━━━━━━━━━━━\u001B[0m\u001B[37m\u001B[0m \u001B[1m0s\u001B[0m 109ms/step - accuracy: 0.8359 - loss: 0.5217 - val_accuracy: 0.8750 - val_loss: 0.5694\n",
      "Epoch 59/100\n",
      "\u001B[1m3/3\u001B[0m \u001B[32m━━━━━━━━━━━━━━━━━━━━\u001B[0m\u001B[37m\u001B[0m \u001B[1m0s\u001B[0m 108ms/step - accuracy: 0.8167 - loss: 0.4794 - val_accuracy: 0.7500 - val_loss: 0.5253\n",
      "Epoch 60/100\n",
      "\u001B[1m3/3\u001B[0m \u001B[32m━━━━━━━━━━━━━━━━━━━━\u001B[0m\u001B[37m\u001B[0m \u001B[1m0s\u001B[0m 108ms/step - accuracy: 0.7861 - loss: 0.4364 - val_accuracy: 0.7500 - val_loss: 0.5674\n",
      "Epoch 61/100\n",
      "\u001B[1m3/3\u001B[0m \u001B[32m━━━━━━━━━━━━━━━━━━━━\u001B[0m\u001B[37m\u001B[0m \u001B[1m0s\u001B[0m 109ms/step - accuracy: 0.8281 - loss: 0.4289 - val_accuracy: 0.7500 - val_loss: 0.5630\n",
      "Epoch 62/100\n",
      "\u001B[1m3/3\u001B[0m \u001B[32m━━━━━━━━━━━━━━━━━━━━\u001B[0m\u001B[37m\u001B[0m \u001B[1m0s\u001B[0m 113ms/step - accuracy: 0.7975 - loss: 0.4240 - val_accuracy: 0.8750 - val_loss: 0.2435\n",
      "Epoch 63/100\n",
      "\u001B[1m3/3\u001B[0m \u001B[32m━━━━━━━━━━━━━━━━━━━━\u001B[0m\u001B[37m\u001B[0m \u001B[1m0s\u001B[0m 111ms/step - accuracy: 0.7901 - loss: 0.4743 - val_accuracy: 0.8750 - val_loss: 0.3188\n",
      "Epoch 64/100\n",
      "\u001B[1m3/3\u001B[0m \u001B[32m━━━━━━━━━━━━━━━━━━━━\u001B[0m\u001B[37m\u001B[0m \u001B[1m0s\u001B[0m 110ms/step - accuracy: 0.7474 - loss: 0.5184 - val_accuracy: 0.8750 - val_loss: 0.4911\n",
      "Epoch 65/100\n",
      "\u001B[1m3/3\u001B[0m \u001B[32m━━━━━━━━━━━━━━━━━━━━\u001B[0m\u001B[37m\u001B[0m \u001B[1m0s\u001B[0m 109ms/step - accuracy: 0.8128 - loss: 0.4237 - val_accuracy: 0.7500 - val_loss: 0.5270\n",
      "Epoch 66/100\n",
      "\u001B[1m3/3\u001B[0m \u001B[32m━━━━━━━━━━━━━━━━━━━━\u001B[0m\u001B[37m\u001B[0m \u001B[1m0s\u001B[0m 115ms/step - accuracy: 0.7556 - loss: 0.4729 - val_accuracy: 0.8750 - val_loss: 0.4683\n",
      "Epoch 67/100\n",
      "\u001B[1m3/3\u001B[0m \u001B[32m━━━━━━━━━━━━━━━━━━━━\u001B[0m\u001B[37m\u001B[0m \u001B[1m0s\u001B[0m 112ms/step - accuracy: 0.8131 - loss: 0.4248 - val_accuracy: 0.7500 - val_loss: 0.5433\n",
      "Epoch 68/100\n",
      "\u001B[1m3/3\u001B[0m \u001B[32m━━━━━━━━━━━━━━━━━━━━\u001B[0m\u001B[37m\u001B[0m \u001B[1m0s\u001B[0m 117ms/step - accuracy: 0.7400 - loss: 0.4366 - val_accuracy: 0.7500 - val_loss: 0.4747\n",
      "Epoch 69/100\n",
      "\u001B[1m3/3\u001B[0m \u001B[32m━━━━━━━━━━━━━━━━━━━━\u001B[0m\u001B[37m\u001B[0m \u001B[1m0s\u001B[0m 108ms/step - accuracy: 0.7670 - loss: 0.4497 - val_accuracy: 0.7500 - val_loss: 0.4303\n",
      "Epoch 70/100\n",
      "\u001B[1m3/3\u001B[0m \u001B[32m━━━━━━━━━━━━━━━━━━━━\u001B[0m\u001B[37m\u001B[0m \u001B[1m0s\u001B[0m 112ms/step - accuracy: 0.7670 - loss: 0.4286 - val_accuracy: 0.8750 - val_loss: 0.4073\n",
      "Epoch 71/100\n",
      "\u001B[1m3/3\u001B[0m \u001B[32m━━━━━━━━━━━━━━━━━━━━\u001B[0m\u001B[37m\u001B[0m \u001B[1m0s\u001B[0m 121ms/step - accuracy: 0.8401 - loss: 0.3911 - val_accuracy: 0.8750 - val_loss: 0.3922\n",
      "Epoch 72/100\n",
      "\u001B[1m3/3\u001B[0m \u001B[32m━━━━━━━━━━━━━━━━━━━━\u001B[0m\u001B[37m\u001B[0m \u001B[1m0s\u001B[0m 107ms/step - accuracy: 0.8050 - loss: 0.4347 - val_accuracy: 0.8750 - val_loss: 0.3774\n",
      "Epoch 73/100\n",
      "\u001B[1m3/3\u001B[0m \u001B[32m━━━━━━━━━━━━━━━━━━━━\u001B[0m\u001B[37m\u001B[0m \u001B[1m0s\u001B[0m 106ms/step - accuracy: 0.8206 - loss: 0.4212 - val_accuracy: 0.8750 - val_loss: 0.3790\n",
      "Epoch 74/100\n",
      "\u001B[1m3/3\u001B[0m \u001B[32m━━━━━━━━━━━━━━━━━━━━\u001B[0m\u001B[37m\u001B[0m \u001B[1m0s\u001B[0m 111ms/step - accuracy: 0.8011 - loss: 0.3858 - val_accuracy: 0.8750 - val_loss: 0.4165\n",
      "Epoch 75/100\n",
      "\u001B[1m3/3\u001B[0m \u001B[32m━━━━━━━━━━━━━━━━━━━━\u001B[0m\u001B[37m\u001B[0m \u001B[1m0s\u001B[0m 114ms/step - accuracy: 0.8242 - loss: 0.4392 - val_accuracy: 0.8750 - val_loss: 0.4199\n",
      "Epoch 76/100\n",
      "\u001B[1m3/3\u001B[0m \u001B[32m━━━━━━━━━━━━━━━━━━━━\u001B[0m\u001B[37m\u001B[0m \u001B[1m0s\u001B[0m 112ms/step - accuracy: 0.8053 - loss: 0.3786 - val_accuracy: 0.8750 - val_loss: 0.4366\n",
      "Epoch 77/100\n",
      "\u001B[1m3/3\u001B[0m \u001B[32m━━━━━━━━━━━━━━━━━━━━\u001B[0m\u001B[37m\u001B[0m \u001B[1m0s\u001B[0m 110ms/step - accuracy: 0.8245 - loss: 0.3699 - val_accuracy: 0.8750 - val_loss: 0.4382\n",
      "Epoch 78/100\n",
      "\u001B[1m3/3\u001B[0m \u001B[32m━━━━━━━━━━━━━━━━━━━━\u001B[0m\u001B[37m\u001B[0m \u001B[1m0s\u001B[0m 113ms/step - accuracy: 0.8167 - loss: 0.3571 - val_accuracy: 0.8750 - val_loss: 0.4111\n",
      "Epoch 79/100\n",
      "\u001B[1m3/3\u001B[0m \u001B[32m━━━━━━━━━━━━━━━━━━━━\u001B[0m\u001B[37m\u001B[0m \u001B[1m0s\u001B[0m 109ms/step - accuracy: 0.8167 - loss: 0.3612 - val_accuracy: 0.8750 - val_loss: 0.4011\n",
      "Epoch 80/100\n",
      "\u001B[1m3/3\u001B[0m \u001B[32m━━━━━━━━━━━━━━━━━━━━\u001B[0m\u001B[37m\u001B[0m \u001B[1m0s\u001B[0m 109ms/step - accuracy: 0.7975 - loss: 0.3295 - val_accuracy: 0.7500 - val_loss: 0.4614\n",
      "Epoch 81/100\n",
      "\u001B[1m3/3\u001B[0m \u001B[32m━━━━━━━━━━━━━━━━━━━━\u001B[0m\u001B[37m\u001B[0m \u001B[1m0s\u001B[0m 122ms/step - accuracy: 0.8167 - loss: 0.3521 - val_accuracy: 0.7500 - val_loss: 0.4686\n",
      "Epoch 82/100\n",
      "\u001B[1m3/3\u001B[0m \u001B[32m━━━━━━━━━━━━━━━━━━━━\u001B[0m\u001B[37m\u001B[0m \u001B[1m0s\u001B[0m 127ms/step - accuracy: 0.8323 - loss: 0.3395 - val_accuracy: 0.8750 - val_loss: 0.3950\n",
      "Epoch 83/100\n",
      "\u001B[1m3/3\u001B[0m \u001B[32m━━━━━━━━━━━━━━━━━━━━\u001B[0m\u001B[37m\u001B[0m \u001B[1m0s\u001B[0m 130ms/step - accuracy: 0.8170 - loss: 0.3940 - val_accuracy: 0.8750 - val_loss: 0.3525\n",
      "Epoch 84/100\n",
      "\u001B[1m3/3\u001B[0m \u001B[32m━━━━━━━━━━━━━━━━━━━━\u001B[0m\u001B[37m\u001B[0m \u001B[1m0s\u001B[0m 122ms/step - accuracy: 0.8512 - loss: 0.3373 - val_accuracy: 0.8750 - val_loss: 0.3624\n",
      "Epoch 85/100\n",
      "\u001B[1m3/3\u001B[0m \u001B[32m━━━━━━━━━━━━━━━━━━━━\u001B[0m\u001B[37m\u001B[0m \u001B[1m0s\u001B[0m 109ms/step - accuracy: 0.8316 - loss: 0.3135 - val_accuracy: 0.8750 - val_loss: 0.4004\n",
      "Epoch 86/100\n",
      "\u001B[1m3/3\u001B[0m \u001B[32m━━━━━━━━━━━━━━━━━━━━\u001B[0m\u001B[37m\u001B[0m \u001B[1m0s\u001B[0m 109ms/step - accuracy: 0.8551 - loss: 0.3048 - val_accuracy: 0.8750 - val_loss: 0.3842\n",
      "Epoch 87/100\n",
      "\u001B[1m3/3\u001B[0m \u001B[32m━━━━━━━━━━━━━━━━━━━━\u001B[0m\u001B[37m\u001B[0m \u001B[1m0s\u001B[0m 108ms/step - accuracy: 0.8817 - loss: 0.3235 - val_accuracy: 0.7500 - val_loss: 0.4095\n",
      "Epoch 88/100\n",
      "\u001B[1m3/3\u001B[0m \u001B[32m━━━━━━━━━━━━━━━━━━━━\u001B[0m\u001B[37m\u001B[0m \u001B[1m0s\u001B[0m 108ms/step - accuracy: 0.8892 - loss: 0.3388 - val_accuracy: 0.5000 - val_loss: 0.6923\n",
      "Epoch 89/100\n",
      "\u001B[1m3/3\u001B[0m \u001B[32m━━━━━━━━━━━━━━━━━━━━\u001B[0m\u001B[37m\u001B[0m \u001B[1m0s\u001B[0m 114ms/step - accuracy: 0.7712 - loss: 0.5199 - val_accuracy: 0.7500 - val_loss: 0.6251\n",
      "Epoch 90/100\n",
      "\u001B[1m3/3\u001B[0m \u001B[32m━━━━━━━━━━━━━━━━━━━━\u001B[0m\u001B[37m\u001B[0m \u001B[1m0s\u001B[0m 110ms/step - accuracy: 0.8472 - loss: 0.3827 - val_accuracy: 0.8750 - val_loss: 0.5049\n",
      "Epoch 91/100\n",
      "\u001B[1m3/3\u001B[0m \u001B[32m━━━━━━━━━━━━━━━━━━━━\u001B[0m\u001B[37m\u001B[0m \u001B[1m0s\u001B[0m 110ms/step - accuracy: 0.8437 - loss: 0.3230 - val_accuracy: 0.8750 - val_loss: 0.5373\n",
      "Epoch 92/100\n",
      "\u001B[1m3/3\u001B[0m \u001B[32m━━━━━━━━━━━━━━━━━━━━\u001B[0m\u001B[37m\u001B[0m \u001B[1m0s\u001B[0m 110ms/step - accuracy: 0.7442 - loss: 0.6916 - val_accuracy: 0.8750 - val_loss: 0.2541\n",
      "Epoch 93/100\n",
      "\u001B[1m3/3\u001B[0m \u001B[32m━━━━━━━━━━━━━━━━━━━━\u001B[0m\u001B[37m\u001B[0m \u001B[1m0s\u001B[0m 111ms/step - accuracy: 0.6686 - loss: 0.7286 - val_accuracy: 0.6250 - val_loss: 0.7179\n",
      "Epoch 94/100\n",
      "\u001B[1m3/3\u001B[0m \u001B[32m━━━━━━━━━━━━━━━━━━━━\u001B[0m\u001B[37m\u001B[0m \u001B[1m0s\u001B[0m 107ms/step - accuracy: 0.6366 - loss: 0.7122 - val_accuracy: 0.8750 - val_loss: 0.3122\n",
      "Epoch 95/100\n",
      "\u001B[1m3/3\u001B[0m \u001B[32m━━━━━━━━━━━━━━━━━━━━\u001B[0m\u001B[37m\u001B[0m \u001B[1m0s\u001B[0m 115ms/step - accuracy: 0.7790 - loss: 0.4291 - val_accuracy: 0.7500 - val_loss: 0.4758\n",
      "Epoch 96/100\n",
      "\u001B[1m3/3\u001B[0m \u001B[32m━━━━━━━━━━━━━━━━━━━━\u001B[0m\u001B[37m\u001B[0m \u001B[1m0s\u001B[0m 108ms/step - accuracy: 0.6295 - loss: 0.5932 - val_accuracy: 0.7500 - val_loss: 0.4186\n",
      "Epoch 97/100\n",
      "\u001B[1m3/3\u001B[0m \u001B[32m━━━━━━━━━━━━━━━━━━━━\u001B[0m\u001B[37m\u001B[0m \u001B[1m0s\u001B[0m 109ms/step - accuracy: 0.6490 - loss: 0.4665 - val_accuracy: 0.8750 - val_loss: 0.3293\n",
      "Epoch 98/100\n",
      "\u001B[1m3/3\u001B[0m \u001B[32m━━━━━━━━━━━━━━━━━━━━\u001B[0m\u001B[37m\u001B[0m \u001B[1m0s\u001B[0m 108ms/step - accuracy: 0.8124 - loss: 0.4217 - val_accuracy: 0.8750 - val_loss: 0.4334\n",
      "Epoch 99/100\n",
      "\u001B[1m3/3\u001B[0m \u001B[32m━━━━━━━━━━━━━━━━━━━━\u001B[0m\u001B[37m\u001B[0m \u001B[1m0s\u001B[0m 106ms/step - accuracy: 0.7670 - loss: 0.4587 - val_accuracy: 0.7500 - val_loss: 0.4523\n",
      "Epoch 100/100\n",
      "\u001B[1m3/3\u001B[0m \u001B[32m━━━━━━━━━━━━━━━━━━━━\u001B[0m\u001B[37m\u001B[0m \u001B[1m0s\u001B[0m 114ms/step - accuracy: 0.7975 - loss: 0.4627 - val_accuracy: 0.8750 - val_loss: 0.3732\n",
      "\u001B[1m1/1\u001B[0m \u001B[32m━━━━━━━━━━━━━━━━━━━━\u001B[0m\u001B[37m\u001B[0m \u001B[1m0s\u001B[0m 21ms/step - accuracy: 0.8750 - loss: 0.3732\n",
      "Test loss: 0.3732336163520813\n",
      "Test accuracy: 0.875\n"
     ]
    }
   ],
   "execution_count": 29
  },
  {
   "metadata": {
    "ExecuteTime": {
     "end_time": "2024-06-17T15:19:15.189892Z",
     "start_time": "2024-06-17T15:19:15.187360Z"
    }
   },
   "cell_type": "code",
   "source": "id = uuid.uuid4()",
   "id": "3fb2cd7c0af3b735",
   "outputs": [],
   "execution_count": 31
  },
  {
   "metadata": {
    "ExecuteTime": {
     "end_time": "2024-06-17T15:19:16.017117Z",
     "start_time": "2024-06-17T15:19:15.934745Z"
    }
   },
   "cell_type": "code",
   "source": "tf.keras.models.save_model(model, f\"ai_{id}.keras\")",
   "id": "7d1fdf6122d61146",
   "outputs": [],
   "execution_count": 32
  },
  {
   "metadata": {
    "ExecuteTime": {
     "end_time": "2024-06-17T15:19:17.768228Z",
     "start_time": "2024-06-17T15:19:16.706167Z"
    }
   },
   "cell_type": "code",
   "source": "tf.saved_model.save(model, 'Conversion/SavedModels/model2')",
   "id": "6b9c59ffe5b15c77",
   "outputs": [
    {
     "name": "stdout",
     "output_type": "stream",
     "text": [
      "INFO:tensorflow:Assets written to: Conversion/SavedModels/model2/assets\n"
     ]
    },
    {
     "name": "stderr",
     "output_type": "stream",
     "text": [
      "INFO:tensorflow:Assets written to: Conversion/SavedModels/model2/assets\n"
     ]
    }
   ],
   "execution_count": 33
  },
  {
   "metadata": {},
   "cell_type": "markdown",
   "source": "# Testing with OpenCV",
   "id": "2070e80b9fcf7e72"
  },
  {
   "metadata": {
    "ExecuteTime": {
     "end_time": "2024-06-17T15:20:25.296632Z",
     "start_time": "2024-06-17T15:19:18.939438Z"
    }
   },
   "cell_type": "code",
   "source": [
    "mp_holistic = mp.solutions.holistic # Holistic model\n",
    "mp_drawing = mp.solutions.drawing_utils # Drawing utilities\n",
    "\n",
    "model = tf.keras.models.load_model(f\"ai_{id}.keras\")\n",
    "\n",
    "def mediapipe_detection(image, model):\n",
    "    image = cv2.cvtColor(image, cv2.COLOR_BGR2RGB) # COLOR CONVERSION BGR 2 RGB\n",
    "    image.flags.writeable = False                  # Image is no longer writeable\n",
    "    results = model.process(image)                 # Make prediction\n",
    "    image.flags.writeable = True                   # Image is now writeable \n",
    "    image = cv2.cvtColor(image, cv2.COLOR_RGB2BGR) # COLOR COVERSION RGB 2 BGR\n",
    "    return image, results\n",
    "\n",
    "cap = cv2.VideoCapture(0)\n",
    "# Set mediapipe model \n",
    "with mp_holistic.Holistic(min_detection_confidence=0.5, min_tracking_confidence=0.5) as holistic:\n",
    "    while cap.isOpened():\n",
    "\n",
    "        # Read feed\n",
    "        ret, frame = cap.read()\n",
    "\n",
    "        # Mirror the frame\n",
    "        frame = cv2.flip(frame, 1)\n",
    "\n",
    "        # Make detections\n",
    "        image, results = mediapipe_detection(frame, holistic)\n",
    "        print(results)\n",
    "\n",
    "        # Draw landmarks\n",
    "        draw_styled_landmarks(image, results)\n",
    "\n",
    "        # Show to screen\n",
    "        cv2.imshow('OpenCV Feed', image)\n",
    "\n",
    "        # Break gracefully\n",
    "        if cv2.waitKey(10) & 0xFF == ord('q'):\n",
    "            break\n",
    "        cap.release()\n",
    "        cv2.destroyAllWindows()\n",
    "cap.release()\n",
    "cv2.destroyAllWindows()\n",
    "\n",
    "def prob_viz(res, actions, input_frame, colors):\n",
    "    output_frame = input_frame.copy()\n",
    "    # Ensure that the size of 'res' and 'colors' is the same\n",
    "    if len(res) != len(colors):\n",
    "        print(\"Size of 'res' and 'colors' does not match. Please check your inputs.\")\n",
    "        return output_frame\n",
    "    for num, prob in enumerate(res):\n",
    "        max_prob = np.max(prob)  # get the maximum probability\n",
    "        cv2.rectangle(output_frame, (0,60+num*40), (int(max_prob*100), 90+num*40), colors[num], -1)\n",
    "        cv2.putText(output_frame, actions[num], (0, 85+num*40), cv2.FONT_HERSHEY_SIMPLEX, 1, (255,255,255), 2, cv2.LINE_AA)\n",
    "    return output_frame\n",
    "colors = [(245,117,16), (117,245,16), (80,22,10), (121,22,76)]\n",
    "cap = cv2.VideoCapture(0)  # Start the webcam\n",
    "ret, image = cap.read()  # Read a frame from the webcam\n",
    "cap.release()  # Close the webcam\n",
    "\n",
    "#plt.figure(figsize=(18,18))\n",
    "#plt.imshow(prob_viz(res, actions, image, colors))\n",
    "# 1. New detection variables\n",
    "sequence = []\n",
    "sentence = []\n",
    "predictions = []\n",
    "threshold = 0.5\n",
    "\n",
    "cap = cv2.VideoCapture(0)\n",
    "# Set mediapipe model\n",
    "with mp_holistic.Holistic(min_detection_confidence=0.5, min_tracking_confidence=0.5) as holistic:\n",
    "    collecting = False\n",
    "    frame_count = 0\n",
    "    while cap.isOpened():\n",
    "\n",
    "        # Read feed\n",
    "        ret, frame = cap.read()\n",
    "        frame = cv2.flip(frame, 1)\n",
    "        # Make detections\n",
    "        image, results = mediapipe_detection(frame, holistic)\n",
    "\n",
    "        # Draw landmarks\n",
    "        draw_styled_landmarks(image, results)\n",
    "\n",
    "        # Check if 'g' is pressed\n",
    "        if cv2.waitKey(10) & 0xFF == ord('g'):\n",
    "            collecting = True\n",
    "            sequence = []  # Reset the sequence\n",
    "            frame_count = 0  # Reset the frame count\n",
    "\n",
    "        # 2. Prediction logic\n",
    "        if collecting and frame_count < 30:\n",
    "            keypoints = extract_keypoints(results)\n",
    "            sequence.append(keypoints)\n",
    "            sequence = sequence[-30:]\n",
    "            frame_count += 1\n",
    "\n",
    "            if frame_count == 30:\n",
    "                res = model.predict(np.expand_dims(sequence, axis=0))[0]\n",
    "                print(res)\n",
    "                print(actions[np.argmax(res)])\n",
    "                predictions.append(np.argmax(res))\n",
    "                collecting = False  # Stop collecting after 30 frames\n",
    "\n",
    "                #3. Viz logic\n",
    "                if np.unique(predictions[-10:])[0]==np.argmax(res):\n",
    "                    if res[np.argmax(res)] > threshold:\n",
    "\n",
    "                        if len(sentence) > 0:\n",
    "                            if actions[np.argmax(res)] != sentence[-1]:\n",
    "                                sentence.append(actions[np.argmax(res)])\n",
    "                        else:\n",
    "                            sentence.append(actions[np.argmax(res)])\n",
    "\n",
    "                if len(sentence) > 5:\n",
    "                    sentence = sentence[-5:]\n",
    "\n",
    "                # Viz probabilities\n",
    "                image = prob_viz(res, actions, image, colors)\n",
    "\n",
    "        cv2.rectangle(image, (0,0), (640, 40), (245, 117, 16), -1)\n",
    "        cv2.putText(image, ' '.join(sentence), (3,30),\n",
    "                    cv2.FONT_HERSHEY_SIMPLEX, 1, (255, 255, 255), 2, cv2.LINE_AA)\n",
    "\n",
    "        # Show to screen\n",
    "        cv2.imshow('OpenCV Feed', image)\n",
    "\n",
    "        # Break gracefully\n",
    "        if cv2.waitKey(10) & 0xFF == ord(\n",
    "                'q'):\n",
    "            break\n",
    "    cap.release()\n",
    "    cv2.destroyAllWindows()"
   ],
   "id": "58f93b36d43473f2",
   "outputs": [
    {
     "name": "stderr",
     "output_type": "stream",
     "text": [
      "I0000 00:00:1718637559.594527   25725 gl_context_egl.cc:85] Successfully initialized EGL. Major : 1 Minor: 5\n",
      "I0000 00:00:1718637559.682515   44486 gl_context.cc:357] GL version: 3.2 (OpenGL ES 3.2 Mesa 24.0.3-1pop1~1711635559~22.04~7a9f319), renderer: AMD Radeon Graphics (radeonsi, renoir, LLVM 15.0.7, DRM 3.57, 6.8.0-76060800daily20240311-generic)\n"
     ]
    },
    {
     "name": "stdout",
     "output_type": "stream",
     "text": [
      "<class 'mediapipe.python.solution_base.SolutionOutputs'>\n"
     ]
    },
    {
     "name": "stderr",
     "output_type": "stream",
     "text": [
      "I0000 00:00:1718637561.026480   25725 gl_context_egl.cc:85] Successfully initialized EGL. Major : 1 Minor: 5\n",
      "I0000 00:00:1718637561.027927   44509 gl_context.cc:357] GL version: 3.2 (OpenGL ES 3.2 Mesa 24.0.3-1pop1~1711635559~22.04~7a9f319), renderer: AMD Radeon Graphics (radeonsi, renoir, LLVM 15.0.7, DRM 3.57, 6.8.0-76060800daily20240311-generic)\n"
     ]
    },
    {
     "name": "stdout",
     "output_type": "stream",
     "text": [
      "\u001B[1m1/1\u001B[0m \u001B[32m━━━━━━━━━━━━━━━━━━━━\u001B[0m\u001B[37m\u001B[0m \u001B[1m0s\u001B[0m 259ms/step\n",
      "[0.19073124 0.8092688 ]\n",
      "hallo\n",
      "Size of 'res' and 'colors' does not match. Please check your inputs.\n",
      "\u001B[1m1/1\u001B[0m \u001B[32m━━━━━━━━━━━━━━━━━━━━\u001B[0m\u001B[37m\u001B[0m \u001B[1m0s\u001B[0m 14ms/step\n",
      "[0.3534042 0.6465958]\n",
      "hallo\n",
      "Size of 'res' and 'colors' does not match. Please check your inputs.\n",
      "\u001B[1m1/1\u001B[0m \u001B[32m━━━━━━━━━━━━━━━━━━━━\u001B[0m\u001B[37m\u001B[0m \u001B[1m0s\u001B[0m 14ms/step\n",
      "[0.162423 0.837577]\n",
      "hallo\n",
      "Size of 'res' and 'colors' does not match. Please check your inputs.\n",
      "\u001B[1m1/1\u001B[0m \u001B[32m━━━━━━━━━━━━━━━━━━━━\u001B[0m\u001B[37m\u001B[0m \u001B[1m0s\u001B[0m 13ms/step\n",
      "[0.33093518 0.6690649 ]\n",
      "hallo\n",
      "Size of 'res' and 'colors' does not match. Please check your inputs.\n",
      "\u001B[1m1/1\u001B[0m \u001B[32m━━━━━━━━━━━━━━━━━━━━\u001B[0m\u001B[37m\u001B[0m \u001B[1m0s\u001B[0m 13ms/step\n",
      "[0.18382967 0.8161704 ]\n",
      "hallo\n",
      "Size of 'res' and 'colors' does not match. Please check your inputs.\n",
      "\u001B[1m1/1\u001B[0m \u001B[32m━━━━━━━━━━━━━━━━━━━━\u001B[0m\u001B[37m\u001B[0m \u001B[1m0s\u001B[0m 13ms/step\n",
      "[0.29365212 0.7063479 ]\n",
      "hallo\n",
      "Size of 'res' and 'colors' does not match. Please check your inputs.\n",
      "\u001B[1m1/1\u001B[0m \u001B[32m━━━━━━━━━━━━━━━━━━━━\u001B[0m\u001B[37m\u001B[0m \u001B[1m0s\u001B[0m 13ms/step\n",
      "[0.35626015 0.6437399 ]\n",
      "hallo\n",
      "Size of 'res' and 'colors' does not match. Please check your inputs.\n",
      "\u001B[1m1/1\u001B[0m \u001B[32m━━━━━━━━━━━━━━━━━━━━\u001B[0m\u001B[37m\u001B[0m \u001B[1m0s\u001B[0m 13ms/step\n",
      "[0.40234327 0.5976567 ]\n",
      "hallo\n",
      "Size of 'res' and 'colors' does not match. Please check your inputs.\n"
     ]
    }
   ],
   "execution_count": 34
  },
  {
   "metadata": {},
   "cell_type": "code",
   "outputs": [],
   "execution_count": null,
   "source": "",
   "id": "a010079b526667b7"
  }
 ],
 "metadata": {
  "kernelspec": {
   "display_name": "Python 3",
   "language": "python",
   "name": "python3"
  },
  "language_info": {
   "codemirror_mode": {
    "name": "ipython",
    "version": 2
   },
   "file_extension": ".py",
   "mimetype": "text/x-python",
   "name": "python",
   "nbconvert_exporter": "python",
   "pygments_lexer": "ipython2",
   "version": "2.7.6"
  }
 },
 "nbformat": 4,
 "nbformat_minor": 5
}
