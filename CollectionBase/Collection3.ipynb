{
 "cells": [
  {
   "cell_type": "code",
   "id": "initial_id",
   "metadata": {
    "collapsed": true,
    "ExecuteTime": {
     "end_time": "2024-06-24T18:19:07.800282Z",
     "start_time": "2024-06-24T18:19:07.769160Z"
    }
   },
   "source": [
    "import cv2\n",
    "import os\n",
    "import numpy as np\n",
    "\n",
    "# Constants\n",
    "ACTIONS = [\"action1\", \"action2\", \"action3\"]  # Add your actions here\n",
    "NUM_SEQUENCES = 30\n",
    "NUM_FRAMES = 30\n",
    "IMG_WIDTH = 1920\n",
    "IMG_HEIGHT = 1080\n",
    "\n",
    "# Global variables\n",
    "collecting = False\n",
    "action_idx = 0\n",
    "sequence_idx = 0\n",
    "frame_cnt = 0\n",
    "\n",
    "# Create directories\n",
    "def create_directory_structure(base_path, actions, num_sequences):\n",
    "    for action in actions:\n",
    "        for sequence in range(num_sequences):\n",
    "            os.makedirs(os.path.join(base_path, action, str(sequence)), exist_ok=True)\n",
    "\n",
    "create_directory_structure(\"MP_Data_Image\", ACTIONS, NUM_SEQUENCES)\n",
    "\n",
    "def save_frame(frame, action, sequence, frame_cnt, base_path):\n",
    "    filename = os.path.join(base_path, action, str(sequence), f\"{frame_cnt}.jpg\")\n",
    "    cv2.imwrite(filename, frame)\n",
    "\n",
    "def capture_frames():\n",
    "    global collecting, action_idx, sequence_idx, frame_cnt\n",
    "\n",
    "    cap = cv2.VideoCapture(4)\n",
    "    cap.set(cv2.CAP_PROP_FRAME_WIDTH, IMG_WIDTH)\n",
    "    cap.set(cv2.CAP_PROP_FRAME_HEIGHT, IMG_HEIGHT)\n",
    "\n",
    "    while True:\n",
    "        ret, frame = cap.read()\n",
    "        if not ret:\n",
    "            break\n",
    "\n",
    "        frame = cv2.flip(frame, 1)  # Flip the frame horizontally\n",
    "\n",
    "        display_frame = frame.copy()\n",
    "        cv2.putText(display_frame, f\"Action: {ACTIONS[action_idx]}, Sequence: {sequence_idx}\", (10, 30), cv2.FONT_HERSHEY_SIMPLEX, 1, (0, 255, 0), 2, cv2.LINE_AA)\n",
    "\n",
    "        cv2.imshow('OpenCV Feed', display_frame)\n",
    "\n",
    "        if collecting and frame_cnt < NUM_FRAMES:\n",
    "            save_frame(frame, ACTIONS[action_idx], sequence_idx, frame_cnt, \"MP_Data_Image\")\n",
    "            frame_cnt += 1\n",
    "\n",
    "        if frame_cnt >= NUM_FRAMES:\n",
    "            collecting = False\n",
    "            frame_cnt = 0\n",
    "            sequence_idx += 1\n",
    "\n",
    "            if sequence_idx >= NUM_SEQUENCES:\n",
    "                sequence_idx = 0\n",
    "                action_idx += 1\n",
    "\n",
    "                if action_idx >= len(ACTIONS):\n",
    "                    break\n",
    "\n",
    "        key = cv2.waitKey(10)\n",
    "        if key & 0xFF == ord('g'):\n",
    "            collecting = not collecting\n",
    "\n",
    "        if key & 0xFF == ord('q'):\n",
    "            break\n",
    "\n",
    "    cap.release()\n",
    "    cv2.destroyAllWindows()\n",
    "\n",
    "# Start the frame capture process\n",
    "capture_frames()\n"
   ],
   "outputs": [
    {
     "name": "stderr",
     "output_type": "stream",
     "text": [
      "[ WARN:0@123.511] global cap_v4l.cpp:997 open VIDEOIO(V4L2:/dev/video4): can't open camera by index\n",
      "[ERROR:0@123.517] global obsensor_uvc_stream_channel.cpp:159 getStreamChannelGroup Camera index out of range\n"
     ]
    }
   ],
   "execution_count": 2
  },
  {
   "metadata": {
    "ExecuteTime": {
     "end_time": "2024-06-24T18:19:07.856663Z",
     "start_time": "2024-06-24T18:19:07.801632Z"
    }
   },
   "cell_type": "code",
   "source": [
    "for i in range(5):\n",
    "    cap = cv2.VideoCapture(i)\n",
    "    if cap.isOpened():\n",
    "        print('Camera ID:', i)\n",
    "        cap.release()"
   ],
   "id": "43202cedb488bc37",
   "outputs": [
    {
     "name": "stdout",
     "output_type": "stream",
     "text": [
      "Camera ID: 0\n",
      "Camera ID: 2\n"
     ]
    },
    {
     "name": "stderr",
     "output_type": "stream",
     "text": [
      "[ WARN:0@123.535] global cap_v4l.cpp:997 open VIDEOIO(V4L2:/dev/video1): can't open camera by index\n",
      "[ERROR:0@123.536] global obsensor_uvc_stream_channel.cpp:159 getStreamChannelGroup Camera index out of range\n",
      "[ WARN:0@123.574] global cap_v4l.cpp:997 open VIDEOIO(V4L2:/dev/video3): can't open camera by index\n",
      "[ERROR:0@123.575] global obsensor_uvc_stream_channel.cpp:159 getStreamChannelGroup Camera index out of range\n",
      "[ WARN:0@123.575] global cap_v4l.cpp:997 open VIDEOIO(V4L2:/dev/video4): can't open camera by index\n",
      "[ERROR:0@123.576] global obsensor_uvc_stream_channel.cpp:159 getStreamChannelGroup Camera index out of range\n"
     ]
    }
   ],
   "execution_count": 3
  },
  {
   "metadata": {
    "ExecuteTime": {
     "end_time": "2024-06-24T18:19:07.861239Z",
     "start_time": "2024-06-24T18:19:07.858510Z"
    }
   },
   "cell_type": "code",
   "source": "",
   "id": "407c063e9e63243c",
   "outputs": [],
   "execution_count": 3
  }
 ],
 "metadata": {
  "kernelspec": {
   "display_name": "Python 3",
   "language": "python",
   "name": "python3"
  },
  "language_info": {
   "codemirror_mode": {
    "name": "ipython",
    "version": 2
   },
   "file_extension": ".py",
   "mimetype": "text/x-python",
   "name": "python",
   "nbconvert_exporter": "python",
   "pygments_lexer": "ipython2",
   "version": "2.7.6"
  }
 },
 "nbformat": 4,
 "nbformat_minor": 5
}
